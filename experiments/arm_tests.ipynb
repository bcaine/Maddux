{
 "cells": [
  {
   "cell_type": "code",
   "execution_count": 1,
   "metadata": {
    "collapsed": false
   },
   "outputs": [],
   "source": [
    "import sys\n",
    "import os\n",
    "sys.path.insert(0, os.path.abspath('..'))"
   ]
  },
  {
   "cell_type": "code",
   "execution_count": 2,
   "metadata": {
    "collapsed": false
   },
   "outputs": [],
   "source": [
    "from maddux.robots import Link, Arm\n",
    "from maddux.robots import create_simple_human_arm\n",
    "from maddux.robots import utils\n",
    "import numpy as np"
   ]
  },
  {
   "cell_type": "code",
   "execution_count": 3,
   "metadata": {
    "collapsed": false
   },
   "outputs": [
    {
     "name": "stdout",
     "output_type": "stream",
     "text": [
      "0\n",
      "[ 0.  0.  0.]\n",
      "[ 0.  0.  0.]\n",
      "0.0\n",
      "0\n",
      "[ 0.  0.  0.]\n",
      "[ 0.  0.  0.]\n",
      "0.0\n",
      "2.0\n",
      "[ 0.  0.  0.]\n",
      "[[ 0.  0.  0.]]\n",
      "0.0\n",
      "0\n",
      "[[ 0.  0.  0.]]\n",
      "[[ 0.  0.  0.]]\n",
      "0.0\n",
      "1.0\n",
      "[[ 0.  0.  0.]]\n",
      "[[  1.41421356e+00  -2.88037407e-04   1.41421353e+00]]\n",
      "2.0\n"
     ]
    }
   ],
   "source": [
    "q0 = np.array([0, np.pi/4, 0, -np.pi/4, np.pi/2])\n",
    "human_arm = create_simple_human_arm(2.0, 1.0, q0)"
   ]
  },
  {
   "cell_type": "code",
   "execution_count": 4,
   "metadata": {
    "collapsed": false
   },
   "outputs": [],
   "source": [
    "# human_arm.ikine(np.array([1,1,1]), 10000, 0.01)"
   ]
  },
  {
   "cell_type": "code",
   "execution_count": 5,
   "metadata": {
    "collapsed": false
   },
   "outputs": [],
   "source": [
    "config = human_arm.fkine(q=np.array([0, np.pi/4, 0, -np.pi/4, np.pi/2]), links=[0, 1, 2])"
   ]
  },
  {
   "cell_type": "code",
   "execution_count": 6,
   "metadata": {
    "collapsed": false
   },
   "outputs": [
    {
     "data": {
      "text/plain": [
       "2.0"
      ]
     },
     "execution_count": 6,
     "metadata": {},
     "output_type": "execute_result"
    }
   ],
   "source": [
    "np.linalg.norm(utils.create_point_from_homogeneous_transform(config))"
   ]
  },
  {
   "cell_type": "code",
   "execution_count": 7,
   "metadata": {
    "collapsed": false
   },
   "outputs": [
    {
     "data": {
      "text/plain": [
       "array([ 0.        ,  0.78539816,  0.        , -0.78539816,  1.57079633])"
      ]
     },
     "execution_count": 7,
     "metadata": {},
     "output_type": "execute_result"
    }
   ],
   "source": [
    "human_arm.get_current_joint_config()"
   ]
  },
  {
   "cell_type": "code",
   "execution_count": 8,
   "metadata": {
    "collapsed": false
   },
   "outputs": [
    {
     "name": "stdout",
     "output_type": "stream",
     "text": [
      "[ 0.  0.  0.]\n",
      "[ 0.  0.  0.]\n",
      "\n",
      "[ 0.  0.  0.]\n",
      "[ 0.  0.  0.]\n",
      "\n",
      "[ 0.  0.  0.]\n",
      "[[ 0.  0.  0.]]\n",
      "\n",
      "[[ 0.  0.  0.]]\n",
      "[[ 0.  0.  0.]]\n",
      "\n",
      "[[ 0.  0.  0.]]\n",
      "[[  1.41421356e+00  -2.88037407e-04   1.41421353e+00]]\n",
      "\n"
     ]
    }
   ],
   "source": [
    "for link in human_arm.links:\n",
    "    print link.base_pos\n",
    "    print link.end_pos\n",
    "    print"
   ]
  },
  {
   "cell_type": "code",
   "execution_count": 9,
   "metadata": {
    "collapsed": false
   },
   "outputs": [
    {
     "data": {
      "text/plain": [
       "matrix([[  7.07106781e-01,   7.07106723e-01,   2.88037401e-04,\n",
       "           1.41421356e+00],\n",
       "        [ -1.44018703e-04,  -2.63327699e-04,   9.99999955e-01,\n",
       "          -2.88037407e-04],\n",
       "        [  7.07106767e-01,  -7.07106791e-01,  -8.43642082e-05,\n",
       "           1.41421353e+00],\n",
       "        [  0.00000000e+00,   0.00000000e+00,   0.00000000e+00,\n",
       "           1.00000000e+00]])"
      ]
     },
     "execution_count": 9,
     "metadata": {},
     "output_type": "execute_result"
    }
   ],
   "source": [
    "config"
   ]
  },
  {
   "cell_type": "code",
   "execution_count": 20,
   "metadata": {
    "collapsed": false
   },
   "outputs": [
    {
     "data": {
      "text/plain": [
       "array([ 0.,  0.,  0.])"
      ]
     },
     "execution_count": 20,
     "metadata": {},
     "output_type": "execute_result"
    }
   ],
   "source": [
    "human_arm.links[3].base_pos.A1"
   ]
  },
  {
   "cell_type": "code",
   "execution_count": null,
   "metadata": {
    "collapsed": true
   },
   "outputs": [],
   "source": []
  }
 ],
 "metadata": {
  "kernelspec": {
   "display_name": "Python 2",
   "language": "python",
   "name": "python2"
  },
  "language_info": {
   "codemirror_mode": {
    "name": "ipython",
    "version": 2
   },
   "file_extension": ".py",
   "mimetype": "text/x-python",
   "name": "python",
   "nbconvert_exporter": "python",
   "pygments_lexer": "ipython2",
   "version": "2.7.11"
  }
 },
 "nbformat": 4,
 "nbformat_minor": 0
}
